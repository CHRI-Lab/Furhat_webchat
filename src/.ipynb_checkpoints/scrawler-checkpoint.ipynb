{
 "cells": [
  {
   "cell_type": "code",
   "execution_count": 8,
   "id": "bb71984c-3be9-4ce0-92a7-b02d5d6536eb",
   "metadata": {
    "pycharm": {
     "name": "#%%\n"
    },
    "tags": []
   },
   "outputs": [
    {
     "name": "stdout",
     "output_type": "stream",
     "text": [
      "Visiting: http://clouds.cis.unimelb.edu.au/broker/2.4/2.4/docs\n"
     ]
    },
    {
     "ename": "FileNotFoundError",
     "evalue": "[Errno 2] No such file or directory: 'scraping_data/clouds.cis.unimelb.edu.au/broker/2.4/2.4/docs/content.txt'",
     "output_type": "error",
     "traceback": [
      "\u001b[0;31m---------------------------------------------------------------------------\u001b[0m",
      "\u001b[0;31mFileNotFoundError\u001b[0m                         Traceback (most recent call last)",
      "Cell \u001b[0;32mIn[8], line 84\u001b[0m\n\u001b[1;32m     82\u001b[0m urls_file \u001b[38;5;241m=\u001b[39m \u001b[38;5;124m'\u001b[39m\u001b[38;5;124mscraping_urls/urls.txt\u001b[39m\u001b[38;5;124m'\u001b[39m\n\u001b[1;32m     83\u001b[0m not_visited_urls_file \u001b[38;5;241m=\u001b[39m \u001b[38;5;124m'\u001b[39m\u001b[38;5;124mscraping_urls/not_visited_urls.txt\u001b[39m\u001b[38;5;124m'\u001b[39m\n\u001b[0;32m---> 84\u001b[0m \u001b[43mcrawl_site\u001b[49m\u001b[43m(\u001b[49m\u001b[43mstart_url\u001b[49m\u001b[43m,\u001b[49m\u001b[43m \u001b[49m\u001b[43mvisited_urls_file\u001b[49m\u001b[43m,\u001b[49m\u001b[43m \u001b[49m\u001b[43murls_file\u001b[49m\u001b[43m,\u001b[49m\u001b[43m \u001b[49m\u001b[43mnot_visited_urls_file\u001b[49m\u001b[43m)\u001b[49m\n",
      "Cell \u001b[0;32mIn[8], line 60\u001b[0m, in \u001b[0;36mcrawl_site\u001b[0;34m(start_url, visited_urls_file, urls_file, not_visited_urls_file)\u001b[0m\n\u001b[1;32m     57\u001b[0m \u001b[38;5;66;03m# 确保目录存在\u001b[39;00m\n\u001b[1;32m     58\u001b[0m os\u001b[38;5;241m.\u001b[39mmakedirs(content_directory, exist_ok\u001b[38;5;241m=\u001b[39m\u001b[38;5;28;01mTrue\u001b[39;00m)\n\u001b[0;32m---> 60\u001b[0m \u001b[38;5;28;01mwith\u001b[39;00m \u001b[38;5;28;43mopen\u001b[39;49m\u001b[43m(\u001b[49m\u001b[43mcontent_file_path\u001b[49m\u001b[43m,\u001b[49m\u001b[43m \u001b[49m\u001b[38;5;124;43m'\u001b[39;49m\u001b[38;5;124;43mw\u001b[39;49m\u001b[38;5;124;43m'\u001b[39;49m\u001b[43m,\u001b[49m\u001b[43m \u001b[49m\u001b[43mencoding\u001b[49m\u001b[38;5;241;43m=\u001b[39;49m\u001b[38;5;124;43m'\u001b[39;49m\u001b[38;5;124;43mutf-8\u001b[39;49m\u001b[38;5;124;43m'\u001b[39;49m\u001b[43m)\u001b[49m \u001b[38;5;28;01mas\u001b[39;00m content_f:\n\u001b[1;32m     61\u001b[0m     content_f\u001b[38;5;241m.\u001b[39mwrite(\u001b[38;5;124mf\u001b[39m\u001b[38;5;124m\"\u001b[39m\u001b[38;5;124mURL: \u001b[39m\u001b[38;5;132;01m{\u001b[39;00mcurrent_url\u001b[38;5;132;01m}\u001b[39;00m\u001b[38;5;130;01m\\n\u001b[39;00m\u001b[38;5;132;01m{\u001b[39;00mtext_content\u001b[38;5;132;01m}\u001b[39;00m\u001b[38;5;130;01m\\n\u001b[39;00m\u001b[38;5;132;01m{\u001b[39;00m\u001b[38;5;124m'\u001b[39m\u001b[38;5;124m=\u001b[39m\u001b[38;5;124m'\u001b[39m\u001b[38;5;241m*\u001b[39m\u001b[38;5;241m100\u001b[39m\u001b[38;5;132;01m}\u001b[39;00m\u001b[38;5;130;01m\\n\u001b[39;00m\u001b[38;5;130;01m\\n\u001b[39;00m\u001b[38;5;124m\"\u001b[39m)\n\u001b[1;32m     63\u001b[0m \u001b[38;5;66;03m# 查找并处理所有链接\u001b[39;00m\n",
      "File \u001b[0;32m~/opt/anaconda3/lib/python3.9/site-packages/IPython/core/interactiveshell.py:284\u001b[0m, in \u001b[0;36m_modified_open\u001b[0;34m(file, *args, **kwargs)\u001b[0m\n\u001b[1;32m    277\u001b[0m \u001b[38;5;28;01mif\u001b[39;00m file \u001b[38;5;129;01min\u001b[39;00m {\u001b[38;5;241m0\u001b[39m, \u001b[38;5;241m1\u001b[39m, \u001b[38;5;241m2\u001b[39m}:\n\u001b[1;32m    278\u001b[0m     \u001b[38;5;28;01mraise\u001b[39;00m \u001b[38;5;167;01mValueError\u001b[39;00m(\n\u001b[1;32m    279\u001b[0m         \u001b[38;5;124mf\u001b[39m\u001b[38;5;124m\"\u001b[39m\u001b[38;5;124mIPython won\u001b[39m\u001b[38;5;124m'\u001b[39m\u001b[38;5;124mt let you open fd=\u001b[39m\u001b[38;5;132;01m{\u001b[39;00mfile\u001b[38;5;132;01m}\u001b[39;00m\u001b[38;5;124m by default \u001b[39m\u001b[38;5;124m\"\u001b[39m\n\u001b[1;32m    280\u001b[0m         \u001b[38;5;124m\"\u001b[39m\u001b[38;5;124mas it is likely to crash IPython. If you know what you are doing, \u001b[39m\u001b[38;5;124m\"\u001b[39m\n\u001b[1;32m    281\u001b[0m         \u001b[38;5;124m\"\u001b[39m\u001b[38;5;124myou can use builtins\u001b[39m\u001b[38;5;124m'\u001b[39m\u001b[38;5;124m open.\u001b[39m\u001b[38;5;124m\"\u001b[39m\n\u001b[1;32m    282\u001b[0m     )\n\u001b[0;32m--> 284\u001b[0m \u001b[38;5;28;01mreturn\u001b[39;00m \u001b[43mio_open\u001b[49m\u001b[43m(\u001b[49m\u001b[43mfile\u001b[49m\u001b[43m,\u001b[49m\u001b[43m \u001b[49m\u001b[38;5;241;43m*\u001b[39;49m\u001b[43margs\u001b[49m\u001b[43m,\u001b[49m\u001b[43m \u001b[49m\u001b[38;5;241;43m*\u001b[39;49m\u001b[38;5;241;43m*\u001b[39;49m\u001b[43mkwargs\u001b[49m\u001b[43m)\u001b[49m\n",
      "\u001b[0;31mFileNotFoundError\u001b[0m: [Errno 2] No such file or directory: 'scraping_data/clouds.cis.unimelb.edu.au/broker/2.4/2.4/docs/content.txt'"
     ]
    }
   ],
   "source": [
    "import os\n",
    "import random\n",
    "import time\n",
    "import requests\n",
    "from bs4 import BeautifulSoup\n",
    "from urllib.parse import urljoin\n",
    "\n",
    "def crawl_site(start_url, visited_urls_file, urls_file, not_visiting_urls_file):\n",
    "    \n",
    "    # 初始化集合\n",
    "    not_visiting_urls = set()\n",
    "    visited_urls = set()\n",
    "    urls_to_visit = set([start_url])\n",
    "\n",
    "    # 在函数的开头打开文件，并在整个函数执行期间保持打开状态\n",
    "    with open(urls_file, 'a+', encoding='utf-8') as urls_f, \\\n",
    "        open(visited_urls_file, 'a+', encoding='utf-8') as visited_urls_f, \\\n",
    "        open(not_visiting_urls_file, 'r', encoding='utf-8') as not_visiting_urls_f:\n",
    "        # 读取 urls_file 文件并更新 urls_to_visit 集合\n",
    "        urls_f.seek(0)\n",
    "        for url in urls_f:\n",
    "            urls_to_visit.add(url.strip())\n",
    "\n",
    "        # 读取 visited_urls_file 文件并更新 visited_urls 集合\n",
    "        visited_urls_f.seek(0)\n",
    "        for url in visited_urls_f:\n",
    "            visited_urls.add(url.strip())\n",
    "            \n",
    "        not_visiting_urls_f.seek(0)\n",
    "        for url in not_visiting_urls_f:\n",
    "            not_visiting_urls.add(url.strip())\n",
    "\n",
    "        # 从 urls_to_visit 中去除已访问过的 URLs\n",
    "        urls_to_visit.difference_update(visited_urls)\n",
    "\n",
    "        while urls_to_visit:\n",
    "            current_url = urls_to_visit.pop()\n",
    "\n",
    "            # 只有当current_url不在visited_urls里时才进行爬取\n",
    "            if current_url not in visited_urls and current_url not in any(not_visiting_urls):\n",
    "                print(f\"Visiting: {current_url}\")\n",
    "                # 在尝试访问链接前，添加随机延迟\n",
    "                time.sleep(random.randint(1, 3))\n",
    "\n",
    "                try:\n",
    "                    response = requests.get(current_url)\n",
    "                    soup = BeautifulSoup(response.text, 'html.parser')\n",
    "\n",
    "                    # 提取并存储所有文字内容\n",
    "                    text_content = soup.get_text()\n",
    "\n",
    "                    # 移除current_url中的\"https:\"，并为文件路径准备\n",
    "                    sanitized_url = current_url.replace('https://', '').replace('http://', '')\n",
    "                    content_directory = f\"{sanitized_url}/\"\n",
    "                    content_file_path = os.path.join(\"scraping_data/\"+content_directory, \"content.txt\") #加个scraping_data\n",
    "\n",
    "                    # 确保目录存在\n",
    "                    os.makedirs(content_directory, exist_ok=True)\n",
    "\n",
    "                    with open(content_file_path, 'w', encoding='utf-8') as content_f:\n",
    "                        content_f.write(f\"URL: {current_url}\\n{text_content}\\n{'='*100}\\n\\n\")\n",
    "\n",
    "                    # 查找并处理所有链接\n",
    "                    for link in soup.find_all('a', href=True):\n",
    "                        absolute_link = urljoin(current_url, link['href'])\n",
    "                        if (absolute_link not in visited_urls) and \\\n",
    "                        (absolute_link not in urls_to_visit) and \\\n",
    "                        (\"cis.unimelb\" in absolute_link) and \\\n",
    "                        (absolute_link not in any(not_visiting_urls)):\n",
    "                            urls_to_visit.add(absolute_link)\n",
    "                            urls_f.write(f\"{absolute_link}\\n\")\n",
    "\n",
    "                    visited_urls.add(current_url)\n",
    "                    visited_urls_f.write(f\"{current_url}\\n\")\n",
    "                except requests.RequestException as e:\n",
    "                    print(f\"Error during requests to {current_url}: {str(e)}\")\n",
    "\n",
    "\n",
    "if __name__ == \"__main__\":\n",
    "    start_url = 'https://cis.unimelb.edu.au/'  # 替换成你想爬取的网站的起始URL\n",
    "    visited_urls_file = 'scraping_urls/visited_urls.txt'\n",
    "    urls_file = 'scraping_urls/urls.txt'\n",
    "    not_visiting_urls_file = 'scraping_urls/not_visiting_urls.txt'\n",
    "    crawl_site(start_url, visited_urls_file, urls_file, not_visiting_urls_file)\n"
   ]
  },
  {
   "cell_type": "code",
   "execution_count": null,
   "id": "92231964-e82e-4ec9-96f0-22f520e75ebd",
   "metadata": {
    "pycharm": {
     "name": "#%%\n"
    }
   },
   "outputs": [],
   "source": []
  }
 ],
 "metadata": {
  "kernelspec": {
   "display_name": "Python 3 (ipykernel)",
   "language": "python",
   "name": "python3"
  },
  "language_info": {
   "codemirror_mode": {
    "name": "ipython",
    "version": 3
   },
   "file_extension": ".py",
   "mimetype": "text/x-python",
   "name": "python",
   "nbconvert_exporter": "python",
   "pygments_lexer": "ipython3",
   "version": "3.9.12"
  }
 },
 "nbformat": 4,
 "nbformat_minor": 5
}
