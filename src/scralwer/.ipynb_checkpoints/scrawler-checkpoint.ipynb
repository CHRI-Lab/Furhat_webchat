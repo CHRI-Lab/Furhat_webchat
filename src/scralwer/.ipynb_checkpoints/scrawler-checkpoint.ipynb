{
 "cells": [
  {
   "cell_type": "code",
   "execution_count": 2,
   "id": "bb71984c-3be9-4ce0-92a7-b02d5d6536eb",
   "metadata": {
    "pycharm": {
     "name": "#%%\n"
    },
    "tags": []
   },
   "outputs": [
    {
     "name": "stdout",
     "output_type": "stream",
     "text": [
      "Visiting: mailto:ai-assurance@cis.unimelb.edu.au\n",
      "Error during requests to mailto:ai-assurance@cis.unimelb.edu.au: No connection adapters were found for 'mailto:ai-assurance@cis.unimelb.edu.au'\n",
      "Visiting: http://www.cis.unimelb.edu.au\n",
      "Error during requests to http://www.cis.unimelb.edu.au: HTTPConnectionPool(host='www.cis.unimelb.edu.au', port=80): Max retries exceeded with url: / (Caused by NewConnectionError('<urllib3.connection.HTTPConnection object at 0x112134820>: Failed to establish a new connection: [Errno 60] Operation timed out'))\n"
     ]
    }
   ],
   "source": [
    "import os\n",
    "import random\n",
    "import time\n",
    "import requests\n",
    "from bs4 import BeautifulSoup\n",
    "from urllib.parse import urljoin\n",
    "\n",
    "def crawl_site(start_url, visited_urls_file, urls_file, not_visiting_urls_file):\n",
    "    \n",
    "    # 初始化集合\n",
    "    not_visiting_urls = set()\n",
    "    visited_urls = set()\n",
    "    urls_to_visit = set([start_url])\n",
    "\n",
    "    # 在函数的开头打开文件，并在整个函数执行期间保持打开状态\n",
    "    with open(urls_file, 'a+', encoding='utf-8') as urls_f, \\\n",
    "        open(visited_urls_file, 'a+', encoding='utf-8') as visited_urls_f, \\\n",
    "        open(not_visiting_urls_file, 'r', encoding='utf-8') as not_visiting_urls_f:\n",
    "        # 读取 urls_file 文件并更新 urls_to_visit 集合\n",
    "        urls_f.seek(0)\n",
    "        for url in urls_f:\n",
    "            urls_to_visit.add(url.strip())\n",
    "\n",
    "        # 读取 visited_urls_file 文件并更新 visited_urls 集合\n",
    "        visited_urls_f.seek(0)\n",
    "        for url in visited_urls_f:\n",
    "            visited_urls.add(url.strip())\n",
    "            \n",
    "        not_visiting_urls_f.seek(0)\n",
    "        for url in not_visiting_urls_f:\n",
    "            not_visiting_urls.add(url.strip())\n",
    "\n",
    "        # 从 urls_to_visit 中去除已访问过的 URLs\n",
    "        urls_to_visit.difference_update(visited_urls)\n",
    "\n",
    "        while urls_to_visit:\n",
    "            current_url = urls_to_visit.pop()\n",
    "\n",
    "            # 只有当current_url不在visited_urls里时才进行爬取\n",
    "            if current_url not in visited_urls and all(sub_url not in current_url for sub_url in not_visiting_urls):\n",
    "                print(f\"Visiting: {current_url}\")\n",
    "                # 在尝试访问链接前，添加随机延迟\n",
    "                time.sleep(random.randint(1, 3))\n",
    "\n",
    "                try:\n",
    "                    response = requests.get(current_url)\n",
    "                    soup = BeautifulSoup(response.text, 'html.parser')\n",
    "\n",
    "                    # 提取并存储所有文字内容\n",
    "                    text_content = soup.get_text()\n",
    "\n",
    "                    # 移除current_url中的\"https:\"，并为文件路径准备\n",
    "                    sanitized_url = current_url.replace('https://', '').replace('http://', '')\n",
    "                    content_directory = f\"scraping_data/{sanitized_url}/\"\n",
    "                    content_file_path = os.path.join(content_directory, \"content.txt\") #加个scraping_data\n",
    "\n",
    "                    # 确保目录存在\n",
    "                    os.makedirs(content_directory, exist_ok=True)\n",
    "\n",
    "                    with open(content_file_path, 'w', encoding='utf-8') as content_f:\n",
    "                        content_f.write(f\"URL: {current_url}\\n{text_content}\\n{'='*100}\\n\\n\")\n",
    "\n",
    "                    # 查找并处理所有链接\n",
    "                    for link in soup.find_all('a', href=True):\n",
    "                        absolute_link = urljoin(current_url, link['href'])\n",
    "                        if (absolute_link not in visited_urls) and \\\n",
    "                        (absolute_link not in urls_to_visit) and \\\n",
    "                        (\"melbconnect\" in absolute_link) and \\ #这里需要改\n",
    "                        all(sub_url not in absolute_link for sub_url in not_visiting_urls):\n",
    "                            urls_to_visit.add(absolute_link)\n",
    "                            urls_f.write(f\"{absolute_link}\\n\")\n",
    "\n",
    "                    visited_urls.add(current_url)\n",
    "                    visited_urls_f.write(f\"{current_url}\\n\")\n",
    "                except requests.RequestException as e:\n",
    "                    print(f\"Error during requests to {current_url}: {str(e)}\")\n",
    "\n",
    "\n",
    "if __name__ == \"__main__\":\n",
    "    # start_url = 'https://cis.unimelb.edu.au/'\n",
    "    start_url = 'https://melbconnect.com.au/'\n",
    "    visited_urls_file = 'scraping_urls/visited_urls.txt'\n",
    "    urls_file = 'scraping_urls/urls.txt'\n",
    "    not_visiting_urls_file = 'scraping_urls/not_visiting_urls.txt'\n",
    "    crawl_site(start_url, visited_urls_file, urls_file, not_visiting_urls_file)\n"
   ]
  },
  {
   "cell_type": "code",
   "execution_count": null,
   "id": "92231964-e82e-4ec9-96f0-22f520e75ebd",
   "metadata": {
    "pycharm": {
     "name": "#%%\n"
    }
   },
   "outputs": [],
   "source": []
  }
 ],
 "metadata": {
  "kernelspec": {
   "display_name": "Python 3 (ipykernel)",
   "language": "python",
   "name": "python3"
  },
  "language_info": {
   "codemirror_mode": {
    "name": "ipython",
    "version": 3
   },
   "file_extension": ".py",
   "mimetype": "text/x-python",
   "name": "python",
   "nbconvert_exporter": "python",
   "pygments_lexer": "ipython3",
   "version": "3.9.12"
  }
 },
 "nbformat": 4,
 "nbformat_minor": 5
}
